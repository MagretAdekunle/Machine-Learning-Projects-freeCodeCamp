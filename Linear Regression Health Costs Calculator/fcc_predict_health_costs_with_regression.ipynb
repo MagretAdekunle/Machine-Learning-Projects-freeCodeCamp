{
  "cells": [
    {
      "cell_type": "markdown",
      "metadata": {
        "id": "view-in-github",
        "colab_type": "text"
      },
      "source": [
        "<a href=\"https://colab.research.google.com/github/MagretAdekunle/Machine-Learning-Projects-freeCodeCamp/blob/main/Linear%20Regression%20Health%20Costs%20Calculator/fcc_predict_health_costs_with_regression.ipynb\" target=\"_parent\"><img src=\"https://colab.research.google.com/assets/colab-badge.svg\" alt=\"Open In Colab\"/></a>"
      ]
    },
    {
      "cell_type": "markdown",
      "source": [
        "# Load libraries"
      ],
      "metadata": {
        "id": "QtfiTsm1EWMZ"
      }
    },
    {
      "cell_type": "code",
      "execution_count": null,
      "metadata": {
        "id": "1rRo8oNqZ-Rj"
      },
      "outputs": [],
      "source": [
        "# Import libraries. You may or may not use all of these.\n",
        "!pip install -q git+https://github.com/tensorflow/docs\n",
        "import matplotlib.pyplot as plt\n",
        "import numpy as np\n",
        "import pandas as pd\n",
        "\n",
        "try:\n",
        "  # %tensorflow_version only exists in Colab.\n",
        "  %tensorflow_version 2.x\n",
        "except Exception:\n",
        "  pass\n",
        "import tensorflow as tf\n",
        "\n",
        "from tensorflow import keras\n",
        "from tensorflow.keras import layers\n",
        "\n",
        "import tensorflow_docs as tfdocs\n",
        "import tensorflow_docs.plots\n",
        "import tensorflow_docs.modeling"
      ]
    },
    {
      "cell_type": "markdown",
      "source": [
        "# Load dataset"
      ],
      "metadata": {
        "id": "t3zZOqsAEbbw"
      }
    },
    {
      "cell_type": "code",
      "execution_count": null,
      "metadata": {
        "id": "CiX2FI4gZtTt"
      },
      "outputs": [],
      "source": [
        "# Import data\n",
        "!wget https://cdn.freecodecamp.org/project-data/health-costs/insurance.csv\n",
        "dataset = pd.read_csv('insurance.csv')"
      ]
    },
    {
      "cell_type": "code",
      "source": [
        "dataset.head()"
      ],
      "metadata": {
        "id": "uXgkfAHK5maL"
      },
      "execution_count": null,
      "outputs": []
    },
    {
      "cell_type": "code",
      "execution_count": null,
      "metadata": {
        "id": "LcopvQh3X-kX"
      },
      "outputs": [],
      "source": [
        "dataset.describe()"
      ]
    },
    {
      "cell_type": "markdown",
      "source": [
        "# Visualizations for Exploratory Data Analysis (EDA)\n"
      ],
      "metadata": {
        "id": "802qvIr7Ejsw"
      }
    },
    {
      "cell_type": "code",
      "source": [
        "\n",
        "# @title Distribution of Age\n",
        "plt.figure(figsize=(10,6))\n",
        "sns.histplot(dataset['age'], kde=True, bins=20)\n",
        "plt.title('Distribution of Age')\n",
        "plt.xlabel('Age')\n",
        "plt.ylabel('Frequency')\n",
        "plt.show()"
      ],
      "metadata": {
        "cellView": "form",
        "id": "dttvGRAr4aQY"
      },
      "execution_count": null,
      "outputs": []
    },
    {
      "cell_type": "code",
      "source": [
        "# @title Distribution of BMI\n",
        "plt.figure(figsize=(10,6))\n",
        "sns.histplot(dataset['bmi'], kde=True, bins=20, color='green')\n",
        "plt.title('Distribution of BMI')\n",
        "plt.xlabel('BMI')\n",
        "plt.ylabel('Frequency')\n",
        "plt.show()"
      ],
      "metadata": {
        "cellView": "form",
        "id": "4Uy_2SxD7Bru"
      },
      "execution_count": null,
      "outputs": []
    },
    {
      "cell_type": "code",
      "source": [
        "# @title Number of Children vs. Expenses (Scatter Plot)\n",
        "plt.figure(figsize=(10,6))\n",
        "sns.scatterplot(x='children', y='expenses', data=dataset, hue='sex', palette='coolwarm')\n",
        "plt.title('Number of Children vs. Expenses')\n",
        "plt.xlabel('Number of Children')\n",
        "plt.ylabel('Medical Expenses')\n",
        "plt.show()"
      ],
      "metadata": {
        "cellView": "form",
        "id": "l6uDuIFG7HdY"
      },
      "execution_count": null,
      "outputs": []
    },
    {
      "cell_type": "code",
      "source": [
        "# @title Expenses by Region (Box Plot)\n",
        "plt.figure(figsize=(10,6))\n",
        "sns.boxplot(x='region', y='expenses', data=dataset)\n",
        "plt.title('Expenses by Region')\n",
        "plt.xlabel('Region')\n",
        "plt.ylabel('Medical Expenses')\n",
        "plt.show()"
      ],
      "metadata": {
        "cellView": "form",
        "id": "rzcCnPvX7L8q"
      },
      "execution_count": null,
      "outputs": []
    },
    {
      "cell_type": "code",
      "source": [
        "# @title Sex vs. Expenses (Box Plot)\n",
        "plt.figure(figsize=(10,6))\n",
        "sns.boxplot(x='sex', y='expenses', data=dataset)\n",
        "plt.title('Expenses by Sex')\n",
        "plt.xlabel('Sex')\n",
        "plt.ylabel('Medical Expenses')\n",
        "plt.show()"
      ],
      "metadata": {
        "cellView": "form",
        "id": "Eq1oI_fv7PAT"
      },
      "execution_count": null,
      "outputs": []
    },
    {
      "cell_type": "code",
      "source": [
        "# @title Smoker vs. Expenses (Box Plot)\n",
        "plt.figure(figsize=(10,6))\n",
        "sns.boxplot(x='smoker', y='expenses', data=dataset)\n",
        "plt.title('Expenses by Smoker')\n",
        "plt.xlabel('Smoker')\n",
        "plt.ylabel('Medical Expenses')\n",
        "plt.show()"
      ],
      "metadata": {
        "cellView": "form",
        "id": "lxI9iGsl8D7v"
      },
      "execution_count": null,
      "outputs": []
    },
    {
      "cell_type": "code",
      "source": [
        "# @title Expenses vs. Number of Children by Region\n",
        "\n",
        "import matplotlib.pyplot as plt\n",
        "children_region_expenses = dataset.groupby(['children', 'region'])['expenses'].mean().unstack()\n",
        "children_region_expenses.plot(kind='line', figsize=(10, 6), marker='o')\n",
        "plt.title('Expenses vs. Number of Children by Region')\n",
        "plt.xlabel('Number of Children')\n",
        "plt.ylabel('Average Expenses')\n",
        "plt.xticks(range(6))\n",
        "_ = plt.legend(title='Region')"
      ],
      "metadata": {
        "cellView": "form",
        "id": "0VMqxrxm76yb"
      },
      "execution_count": null,
      "outputs": []
    },
    {
      "cell_type": "code",
      "source": [
        "# @title Correlation Heatmap\n",
        "plt.figure(figsize=(8,6))\n",
        "corr = dataset[['age', 'bmi', 'children', 'expenses']].corr()\n",
        "sns.heatmap(corr, annot=True, cmap='coolwarm', fmt='.2f', linewidths=0.5)\n",
        "plt.title('Correlation Heatmap')\n",
        "plt.show()\n"
      ],
      "metadata": {
        "cellView": "form",
        "id": "ki6JXGww7R8Y"
      },
      "execution_count": null,
      "outputs": []
    },
    {
      "cell_type": "code",
      "source": [
        "# @title Age, BMI, and Children vs Expenses\n",
        "\n",
        "fig, axes = plt.subplots(1, 3, figsize=(18, 4))\n",
        "\n",
        "# Identify numerical columns (excluding 'expenses' and categorical columns)\n",
        "cols = [f for f in dataset.columns if f != 'expenses' and dataset[f].dtype != 'object']\n",
        "\n",
        "# Create scatter plots for each numerical feature vs 'expenses'\n",
        "for i, feature in enumerate(cols):\n",
        "    dataset.plot.scatter(x=feature, y='expenses', ax=axes[i])\n",
        "    axes[i].set_title(f'{feature} vs Expenses')\n",
        "    axes[i].set_xlabel(feature)\n",
        "    axes[i].set_ylabel('Expenses')\n",
        "\n",
        "plt.show()\n"
      ],
      "metadata": {
        "cellView": "form",
        "id": "muBBOBDe7j5n"
      },
      "execution_count": null,
      "outputs": []
    },
    {
      "cell_type": "code",
      "source": [
        "model_dataset = dataset.copy()"
      ],
      "metadata": {
        "id": "bI5ikGQaBRMP"
      },
      "execution_count": null,
      "outputs": []
    },
    {
      "cell_type": "markdown",
      "source": [
        "# Preprocessing categorical data"
      ],
      "metadata": {
        "id": "BPjBXfh6EuPF"
      }
    },
    {
      "cell_type": "code",
      "source": [
        "# Preprocessing categorical data by converting them into numerical codes\n",
        "feature_columns = {}\n",
        "for col_name in model_dataset.columns:\n",
        "    if model_dataset[col_name].dtype == 'object':\n",
        "        c = model_dataset[col_name].astype('category')\n",
        "        model_dataset[col_name] = c.cat.codes\n",
        "        feature_columns[col_name] = dict(enumerate(c.cat.categories))\n",
        "\n",
        "model_dataset.head()"
      ],
      "metadata": {
        "id": "8M4Ni32u9kTZ"
      },
      "execution_count": null,
      "outputs": []
    },
    {
      "cell_type": "markdown",
      "source": [
        "# Splitting data"
      ],
      "metadata": {
        "id": "R_-qu3HKE1SR"
      }
    },
    {
      "cell_type": "code",
      "source": [
        "# Shuffling the dataset\n",
        "model_dataset = model_dataset.sample(frac=1)"
      ],
      "metadata": {
        "id": "_8yk7OHZ9wtC"
      },
      "execution_count": null,
      "outputs": []
    },
    {
      "cell_type": "code",
      "source": [
        "# Splitting data in training datasets\n",
        "train_dataset = model_dataset.sample(frac=0.8, random_state=0)\n",
        "train_labels = train_dataset.pop('expenses')"
      ],
      "metadata": {
        "id": "rYZmfei4H8Ue"
      },
      "execution_count": null,
      "outputs": []
    },
    {
      "cell_type": "code",
      "source": [
        "# Splitting data in testing datasets\n",
        "test_dataset = model_dataset.drop(train_dataset.index)\n",
        "test_labels = test_dataset.pop('expenses')"
      ],
      "metadata": {
        "id": "gKHqoLREH9Z2"
      },
      "execution_count": null,
      "outputs": []
    },
    {
      "cell_type": "markdown",
      "source": [
        "# Normalizing Data"
      ],
      "metadata": {
        "id": "KFl5MQHLE5Gk"
      }
    },
    {
      "cell_type": "code",
      "source": [
        "normalizer = layers.Normalization(axis=-1)\n",
        "# Compute mean and std from the training data\n",
        "normalizer.adapt(np.array(train_dataset))"
      ],
      "metadata": {
        "id": "B6xVtNQQ-JUU"
      },
      "execution_count": null,
      "outputs": []
    },
    {
      "cell_type": "markdown",
      "source": [
        "# Building the Model"
      ],
      "metadata": {
        "id": "LDJF0C8lE763"
      }
    },
    {
      "cell_type": "code",
      "source": [
        "# Define the model architecture\n",
        "model = tf.keras.Sequential([\n",
        "    layers.Input(shape=(train_dataset.shape[1],)),\n",
        "    normalizer,\n",
        "    # First hidden layer\n",
        "    layers.Dense(128, activation='relu'),\n",
        "    # Dropout layer with 30% rate\n",
        "    layers.Dropout(0.3),\n",
        "    # Second hidden layer\n",
        "    layers.Dense(64, activation='relu'),\n",
        "    # Dropout layer\n",
        "    layers.Dropout(0.3),\n",
        "    # Third hidden layer\n",
        "    layers.Dense(32, activation='relu'),\n",
        "    # Output layer (regression task)\n",
        "    layers.Dense(1)\n",
        "])\n",
        "\n",
        "# Compile the model\n",
        "model.compile(\n",
        "    loss='mean_absolute_error',\n",
        "    optimizer=tf.keras.optimizers.Adam(0.001),\n",
        "    metrics=['mae', 'mse']\n",
        ")\n",
        "\n",
        "model.summary()"
      ],
      "metadata": {
        "id": "QlK1D7NO-kgT"
      },
      "execution_count": null,
      "outputs": []
    },
    {
      "cell_type": "markdown",
      "source": [
        "# Traning the Model"
      ],
      "metadata": {
        "id": "iiMo7qg-E_zn"
      }
    },
    {
      "cell_type": "code",
      "source": [
        "history = model.fit(\n",
        "    train_dataset,\n",
        "    train_labels,\n",
        "    validation_split=0.2,\n",
        "    verbose=1,\n",
        "    epochs=1000\n",
        ")"
      ],
      "metadata": {
        "id": "l27OeuAk_3Hi"
      },
      "execution_count": null,
      "outputs": []
    },
    {
      "cell_type": "markdown",
      "source": [
        "# Plotting The Loss and Validation Loss"
      ],
      "metadata": {
        "id": "pHTOlCMHLmWv"
      }
    },
    {
      "cell_type": "code",
      "source": [
        "plt.plot(history.history['loss'], label='Loss')\n",
        "plt.plot(history.history['val_loss'], label='Validation Loss')\n",
        "\n",
        "# Add labels and legend\n",
        "plt.xlabel('Epoch')\n",
        "plt.ylabel('Error [MPG]')\n",
        "\n",
        "# Display legend and grid\n",
        "plt.legend()\n",
        "plt.grid(True)\n",
        "\n",
        "plt.show()"
      ],
      "metadata": {
        "id": "Iz8OyRk1A9Sw"
      },
      "execution_count": null,
      "outputs": []
    },
    {
      "cell_type": "code",
      "execution_count": null,
      "metadata": {
        "id": "Xe7RXH3N3CWU"
      },
      "outputs": [],
      "source": [
        "# RUN THIS CELL TO TEST YOUR MODEL. DO NOT MODIFY CONTENTS.\n",
        "# Test model by checking how well the model generalizes using the test set.\n",
        "loss, mae, mse = model.evaluate(test_dataset, test_labels, verbose=2)\n",
        "\n",
        "print(\"Testing set Mean Abs Error: {:5.2f} expenses\".format(mae))\n",
        "\n",
        "if mae < 3500:\n",
        "  print(\"You passed the challenge. Great job!\")\n",
        "else:\n",
        "  print(\"The Mean Abs Error must be less than 3500. Keep trying.\")\n",
        "\n",
        "# Plot predictions.\n",
        "test_predictions = model.predict(test_dataset).flatten()\n",
        "\n",
        "a = plt.axes(aspect='equal')\n",
        "plt.scatter(test_labels, test_predictions)\n",
        "plt.xlabel('True values (Expenses)')\n",
        "plt.ylabel('Predictions (Expenses)')\n",
        "lims = [0, 50000]\n",
        "plt.xlim(lims)\n",
        "plt.ylim(lims)\n",
        "_ = plt.plot(lims,lims)\n"
      ]
    }
  ],
  "metadata": {
    "colab": {
      "private_outputs": true,
      "provenance": [],
      "include_colab_link": true
    },
    "kernelspec": {
      "display_name": "Python 3",
      "name": "python3"
    }
  },
  "nbformat": 4,
  "nbformat_minor": 0
}